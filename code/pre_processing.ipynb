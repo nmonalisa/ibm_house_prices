{
 "cells": [
  {
   "cell_type": "markdown",
   "id": "40c32988",
   "metadata": {},
   "source": [
    "## Pré-processamento dos dados\n",
    "\n",
    "---"
   ]
  },
  {
   "cell_type": "markdown",
   "id": "4114f921",
   "metadata": {},
   "source": [
    "**Objetivo geral:** prever o preço de venda de imóveis residenciais com base em dados históricos. \n",
    "\n",
    "\n",
    "**Fonte dos dados:** https://www.kaggle.com/c/house-prices-advanced-regression-techniques/overview\n",
    "\n",
    "**Outras fontes citadas**: ver seção \"Referêrencias\" na documentação do projeto.\n",
    "\n",
    "**Passos desenvolvidos nesse notebook:**\n",
    "* Exploração da estrutura dos dados\n",
    "* Tratamento de valores nulos e faltantes\n",
    "* Detecção de outliers\n",
    "* Label Encoder: transformação das variáveis categóricas\n",
    "* Seleção de atributos\n",
    "* Escalonamento dos dados\n",
    "* Inspeção de auto-correlação entre variáveis\n",
    "* Exportação dos dados no formato .pkl"
   ]
  },
  {
   "cell_type": "markdown",
   "id": "dd99edff",
   "metadata": {},
   "source": [
    "---"
   ]
  },
  {
   "cell_type": "markdown",
   "id": "4fd07eff",
   "metadata": {},
   "source": [
    "#### Primeira etapa, importação das bibliotecas e ingestão dos dados:"
   ]
  },
  {
   "cell_type": "code",
   "execution_count": 1,
   "id": "a0dcbe47",
   "metadata": {},
   "outputs": [],
   "source": [
    "import seaborn as sns\n",
    "import matplotlib.pyplot as plt\n",
    "import pandas as pd\n",
    "import numpy as np\n",
    "from pyod.models.knn import KNN\n",
    "import pickle\n",
    "from sklearn.preprocessing import LabelEncoder\n",
    "from sklearn.preprocessing import MinMaxScaler\n",
    "from sklearn.preprocessing import StandardScaler\n",
    "from sklearn.ensemble import ExtraTreesClassifier\n",
    "import warnings"
   ]
  },
  {
   "cell_type": "code",
   "execution_count": 2,
   "id": "537d0f77",
   "metadata": {},
   "outputs": [],
   "source": [
    "# Configurações e variáveis globais\n",
    "warnings.filterwarnings(\"ignore\")\n",
    "target = \"SalePrice\"\n",
    "non_numeric_dtypes = \"object\"\n",
    "numeric_dtypes = [\"int64\", \"float64\"]\n",
    "thresold_relative_importance = 0.010\n",
    "thresold_high_correlation = 0.95\n",
    "thresold_missing_values = 0.15"
   ]
  },
  {
   "cell_type": "code",
   "execution_count": 3,
   "id": "b34e8605",
   "metadata": {},
   "outputs": [
    {
     "data": {
      "text/html": [
       "<div>\n",
       "<style scoped>\n",
       "    .dataframe tbody tr th:only-of-type {\n",
       "        vertical-align: middle;\n",
       "    }\n",
       "\n",
       "    .dataframe tbody tr th {\n",
       "        vertical-align: top;\n",
       "    }\n",
       "\n",
       "    .dataframe thead th {\n",
       "        text-align: right;\n",
       "    }\n",
       "</style>\n",
       "<table border=\"1\" class=\"dataframe\">\n",
       "  <thead>\n",
       "    <tr style=\"text-align: right;\">\n",
       "      <th></th>\n",
       "      <th>Id</th>\n",
       "      <th>MSSubClass</th>\n",
       "      <th>MSZoning</th>\n",
       "      <th>LotFrontage</th>\n",
       "      <th>LotArea</th>\n",
       "      <th>Street</th>\n",
       "      <th>Alley</th>\n",
       "      <th>LotShape</th>\n",
       "      <th>LandContour</th>\n",
       "      <th>Utilities</th>\n",
       "      <th>...</th>\n",
       "      <th>PoolArea</th>\n",
       "      <th>PoolQC</th>\n",
       "      <th>Fence</th>\n",
       "      <th>MiscFeature</th>\n",
       "      <th>MiscVal</th>\n",
       "      <th>MoSold</th>\n",
       "      <th>YrSold</th>\n",
       "      <th>SaleType</th>\n",
       "      <th>SaleCondition</th>\n",
       "      <th>SalePrice</th>\n",
       "    </tr>\n",
       "  </thead>\n",
       "  <tbody>\n",
       "    <tr>\n",
       "      <th>0</th>\n",
       "      <td>1</td>\n",
       "      <td>60</td>\n",
       "      <td>RL</td>\n",
       "      <td>65.0</td>\n",
       "      <td>8450</td>\n",
       "      <td>Pave</td>\n",
       "      <td>NaN</td>\n",
       "      <td>Reg</td>\n",
       "      <td>Lvl</td>\n",
       "      <td>AllPub</td>\n",
       "      <td>...</td>\n",
       "      <td>0</td>\n",
       "      <td>NaN</td>\n",
       "      <td>NaN</td>\n",
       "      <td>NaN</td>\n",
       "      <td>0</td>\n",
       "      <td>2</td>\n",
       "      <td>2008</td>\n",
       "      <td>WD</td>\n",
       "      <td>Normal</td>\n",
       "      <td>208500</td>\n",
       "    </tr>\n",
       "    <tr>\n",
       "      <th>1</th>\n",
       "      <td>2</td>\n",
       "      <td>20</td>\n",
       "      <td>RL</td>\n",
       "      <td>80.0</td>\n",
       "      <td>9600</td>\n",
       "      <td>Pave</td>\n",
       "      <td>NaN</td>\n",
       "      <td>Reg</td>\n",
       "      <td>Lvl</td>\n",
       "      <td>AllPub</td>\n",
       "      <td>...</td>\n",
       "      <td>0</td>\n",
       "      <td>NaN</td>\n",
       "      <td>NaN</td>\n",
       "      <td>NaN</td>\n",
       "      <td>0</td>\n",
       "      <td>5</td>\n",
       "      <td>2007</td>\n",
       "      <td>WD</td>\n",
       "      <td>Normal</td>\n",
       "      <td>181500</td>\n",
       "    </tr>\n",
       "    <tr>\n",
       "      <th>2</th>\n",
       "      <td>3</td>\n",
       "      <td>60</td>\n",
       "      <td>RL</td>\n",
       "      <td>68.0</td>\n",
       "      <td>11250</td>\n",
       "      <td>Pave</td>\n",
       "      <td>NaN</td>\n",
       "      <td>IR1</td>\n",
       "      <td>Lvl</td>\n",
       "      <td>AllPub</td>\n",
       "      <td>...</td>\n",
       "      <td>0</td>\n",
       "      <td>NaN</td>\n",
       "      <td>NaN</td>\n",
       "      <td>NaN</td>\n",
       "      <td>0</td>\n",
       "      <td>9</td>\n",
       "      <td>2008</td>\n",
       "      <td>WD</td>\n",
       "      <td>Normal</td>\n",
       "      <td>223500</td>\n",
       "    </tr>\n",
       "    <tr>\n",
       "      <th>3</th>\n",
       "      <td>4</td>\n",
       "      <td>70</td>\n",
       "      <td>RL</td>\n",
       "      <td>60.0</td>\n",
       "      <td>9550</td>\n",
       "      <td>Pave</td>\n",
       "      <td>NaN</td>\n",
       "      <td>IR1</td>\n",
       "      <td>Lvl</td>\n",
       "      <td>AllPub</td>\n",
       "      <td>...</td>\n",
       "      <td>0</td>\n",
       "      <td>NaN</td>\n",
       "      <td>NaN</td>\n",
       "      <td>NaN</td>\n",
       "      <td>0</td>\n",
       "      <td>2</td>\n",
       "      <td>2006</td>\n",
       "      <td>WD</td>\n",
       "      <td>Abnorml</td>\n",
       "      <td>140000</td>\n",
       "    </tr>\n",
       "    <tr>\n",
       "      <th>4</th>\n",
       "      <td>5</td>\n",
       "      <td>60</td>\n",
       "      <td>RL</td>\n",
       "      <td>84.0</td>\n",
       "      <td>14260</td>\n",
       "      <td>Pave</td>\n",
       "      <td>NaN</td>\n",
       "      <td>IR1</td>\n",
       "      <td>Lvl</td>\n",
       "      <td>AllPub</td>\n",
       "      <td>...</td>\n",
       "      <td>0</td>\n",
       "      <td>NaN</td>\n",
       "      <td>NaN</td>\n",
       "      <td>NaN</td>\n",
       "      <td>0</td>\n",
       "      <td>12</td>\n",
       "      <td>2008</td>\n",
       "      <td>WD</td>\n",
       "      <td>Normal</td>\n",
       "      <td>250000</td>\n",
       "    </tr>\n",
       "  </tbody>\n",
       "</table>\n",
       "<p>5 rows × 81 columns</p>\n",
       "</div>"
      ],
      "text/plain": [
       "   Id  MSSubClass MSZoning  LotFrontage  LotArea Street Alley LotShape  \\\n",
       "0   1          60       RL         65.0     8450   Pave   NaN      Reg   \n",
       "1   2          20       RL         80.0     9600   Pave   NaN      Reg   \n",
       "2   3          60       RL         68.0    11250   Pave   NaN      IR1   \n",
       "3   4          70       RL         60.0     9550   Pave   NaN      IR1   \n",
       "4   5          60       RL         84.0    14260   Pave   NaN      IR1   \n",
       "\n",
       "  LandContour Utilities  ... PoolArea PoolQC Fence MiscFeature MiscVal MoSold  \\\n",
       "0         Lvl    AllPub  ...        0    NaN   NaN         NaN       0      2   \n",
       "1         Lvl    AllPub  ...        0    NaN   NaN         NaN       0      5   \n",
       "2         Lvl    AllPub  ...        0    NaN   NaN         NaN       0      9   \n",
       "3         Lvl    AllPub  ...        0    NaN   NaN         NaN       0      2   \n",
       "4         Lvl    AllPub  ...        0    NaN   NaN         NaN       0     12   \n",
       "\n",
       "  YrSold  SaleType  SaleCondition  SalePrice  \n",
       "0   2008        WD         Normal     208500  \n",
       "1   2007        WD         Normal     181500  \n",
       "2   2008        WD         Normal     223500  \n",
       "3   2006        WD        Abnorml     140000  \n",
       "4   2008        WD         Normal     250000  \n",
       "\n",
       "[5 rows x 81 columns]"
      ]
     },
     "execution_count": 3,
     "metadata": {},
     "output_type": "execute_result"
    }
   ],
   "source": [
    "# Ingestão dos dados\n",
    "path_file = \"./data/train.csv\"\n",
    "house = pd.read_csv(path_file)\n",
    "house.head()"
   ]
  },
  {
   "cell_type": "markdown",
   "id": "056c90a8",
   "metadata": {},
   "source": [
    "---\n",
    "\n",
    "#### Declarando funções para reaproveitamento de trechos de código usados em diferentes partes da análise:"
   ]
  },
  {
   "cell_type": "code",
   "execution_count": 4,
   "id": "a75d4b8c",
   "metadata": {},
   "outputs": [],
   "source": [
    "def print_dataset_shape(df):\n",
    "    print(f'This dataset contains {df.shape[0]} rows and {df.shape[1]} columns.')"
   ]
  },
  {
   "cell_type": "code",
   "execution_count": 5,
   "id": "3917c9ff",
   "metadata": {},
   "outputs": [],
   "source": [
    "def show_missing_cols(data):\n",
    "    any_missing_cols = [col for col in data.columns if data[col].isnull().any()]\n",
    "    tot_missing_col = data[any_missing_cols].isnull().sum()\n",
    "    return tot_missing_col"
   ]
  },
  {
   "cell_type": "markdown",
   "id": "9ac629e2",
   "metadata": {},
   "source": [
    "---\n",
    "\n",
    "#### Explorando a estrutura  dos dados:"
   ]
  },
  {
   "cell_type": "code",
   "execution_count": 6,
   "id": "fe1fd803",
   "metadata": {},
   "outputs": [
    {
     "name": "stdout",
     "output_type": "stream",
     "text": [
      "This dataset contains 1460 rows and 81 columns.\n"
     ]
    }
   ],
   "source": [
    "print_dataset_shape(house)"
   ]
  },
  {
   "cell_type": "code",
   "execution_count": 7,
   "id": "2101ddc4",
   "metadata": {},
   "outputs": [
    {
     "data": {
      "text/plain": [
       "LotFrontage      259\n",
       "Alley           1369\n",
       "MasVnrType         8\n",
       "MasVnrArea         8\n",
       "BsmtQual          37\n",
       "BsmtCond          37\n",
       "BsmtExposure      38\n",
       "BsmtFinType1      37\n",
       "BsmtFinType2      38\n",
       "Electrical         1\n",
       "FireplaceQu      690\n",
       "GarageType        81\n",
       "GarageYrBlt       81\n",
       "GarageFinish      81\n",
       "GarageQual        81\n",
       "GarageCond        81\n",
       "PoolQC          1453\n",
       "Fence           1179\n",
       "MiscFeature     1406\n",
       "dtype: int64"
      ]
     },
     "execution_count": 7,
     "metadata": {},
     "output_type": "execute_result"
    }
   ],
   "source": [
    "show_missing_cols(house)"
   ]
  },
  {
   "cell_type": "code",
   "execution_count": 8,
   "id": "ff5331e3",
   "metadata": {},
   "outputs": [
    {
     "data": {
      "text/plain": [
       "0"
      ]
     },
     "execution_count": 8,
     "metadata": {},
     "output_type": "execute_result"
    }
   ],
   "source": [
    "house.duplicated().sum()"
   ]
  },
  {
   "cell_type": "markdown",
   "id": "d3288298",
   "metadata": {},
   "source": [
    "---\n",
    "\n",
    "#### Limpeza e transformação dos dados\n",
    "\n",
    "Aqui tomei a decisão  de eliminar as colunas que possuem > 15% de dados nulos ou ausentes. Em alguns casos a imputação de valores pode ser interessante, ao invés da exclusão de colunas, pois podemos perder atributos importantes. Porém, considero que 15% de dados faltantes em um atributo seja um limite razoável, e que mais valores do que isso também pode comprometer a confiabilidade das inferêrencias estatísticas durante a construção dos modelos. Não existe um consenso sobre a proporção de dados faltantes que é aceitável em uma análise, mas alguns autores argumentam que mais de 10% já pode causar algum impacto (fonte: 1). Por isso optei pelo valor de 0.15 (armazenado na variável \"thresold_missing_values\")."
   ]
  },
  {
   "cell_type": "code",
   "execution_count": 9,
   "id": "a001de9c",
   "metadata": {},
   "outputs": [
    {
     "name": "stdout",
     "output_type": "stream",
     "text": [
      " Drop columns with >= 219 missing values\n"
     ]
    }
   ],
   "source": [
    "total_values = len(house)\n",
    "min_missing_values_todrop = total_values*thresold_missing_values\n",
    "print(f' Drop columns with >= {round(min_missing_values_todrop)} missing values')"
   ]
  },
  {
   "cell_type": "code",
   "execution_count": 10,
   "id": "66ce1a40",
   "metadata": {},
   "outputs": [
    {
     "data": {
      "text/plain": [
       "['LotFrontage', 'Alley', 'FireplaceQu', 'PoolQC', 'Fence', 'MiscFeature']"
      ]
     },
     "execution_count": 10,
     "metadata": {},
     "output_type": "execute_result"
    }
   ],
   "source": [
    "cols_to_drop = [col for col in house.columns if house[col].isnull().sum() >= min_missing_values_todrop ]\n",
    "cols_to_drop"
   ]
  },
  {
   "cell_type": "code",
   "execution_count": 11,
   "id": "c8b38d75",
   "metadata": {},
   "outputs": [
    {
     "name": "stdout",
     "output_type": "stream",
     "text": [
      "This dataset contains 1460 rows and 75 columns.\n"
     ]
    }
   ],
   "source": [
    "house.drop(cols_to_drop, axis=1, inplace=True)\n",
    "print_dataset_shape(house)"
   ]
  },
  {
   "cell_type": "markdown",
   "id": "2c2e1a85",
   "metadata": {},
   "source": [
    "Checando quais colunas ainda tem valores faltantes (colunas com < thresold_missing_values):"
   ]
  },
  {
   "cell_type": "code",
   "execution_count": 12,
   "id": "756f86cb",
   "metadata": {},
   "outputs": [
    {
     "data": {
      "text/plain": [
       "MasVnrType       8\n",
       "MasVnrArea       8\n",
       "BsmtQual        37\n",
       "BsmtCond        37\n",
       "BsmtExposure    38\n",
       "BsmtFinType1    37\n",
       "BsmtFinType2    38\n",
       "Electrical       1\n",
       "GarageType      81\n",
       "GarageYrBlt     81\n",
       "GarageFinish    81\n",
       "GarageQual      81\n",
       "GarageCond      81\n",
       "dtype: int64"
      ]
     },
     "execution_count": 12,
     "metadata": {},
     "output_type": "execute_result"
    }
   ],
   "source": [
    "show_missing_cols(house)"
   ]
  },
  {
   "cell_type": "markdown",
   "id": "f64166d8",
   "metadata": {},
   "source": [
    "Se eu apagasse todas as linhas únicas com pelo menos um registro faltante, quantas linhas eu perderia?"
   ]
  },
  {
   "cell_type": "code",
   "execution_count": 13,
   "id": "f88a84bb",
   "metadata": {},
   "outputs": [
    {
     "name": "stdout",
     "output_type": "stream",
     "text": [
      "13 rows with any missig value.\n"
     ]
    }
   ],
   "source": [
    "print(f'{house.isnull().any(axis=0).sum()} rows with any missig value.')"
   ]
  },
  {
   "cell_type": "markdown",
   "id": "b2d8da1c",
   "metadata": {},
   "source": [
    "Considero que seja um número pequeno de linhas e que posso excluí-las da base sem causar grandes impactos:"
   ]
  },
  {
   "cell_type": "code",
   "execution_count": 14,
   "id": "738a2dc1",
   "metadata": {},
   "outputs": [
    {
     "data": {
      "text/plain": [
       "Series([], dtype: float64)"
      ]
     },
     "execution_count": 14,
     "metadata": {},
     "output_type": "execute_result"
    }
   ],
   "source": [
    "house.dropna(inplace=True)\n",
    "show_missing_cols(house)"
   ]
  },
  {
   "cell_type": "code",
   "execution_count": 15,
   "id": "798db27f",
   "metadata": {},
   "outputs": [
    {
     "name": "stdout",
     "output_type": "stream",
     "text": [
      "This dataset contains 1338 rows and 75 columns.\n"
     ]
    }
   ],
   "source": [
    "print_dataset_shape(house)"
   ]
  },
  {
   "cell_type": "markdown",
   "id": "ac20fcca",
   "metadata": {},
   "source": [
    "Identificando variáveis numéricas e categóricas na base de dados:<br>\n",
    "(etapa importante para quando estivermos transformando as variáveis categóricas em numéricas)"
   ]
  },
  {
   "cell_type": "code",
   "execution_count": 16,
   "id": "4a5d1446",
   "metadata": {},
   "outputs": [
    {
     "data": {
      "text/plain": [
       "True"
      ]
     },
     "execution_count": 16,
     "metadata": {},
     "output_type": "execute_result"
    }
   ],
   "source": [
    "non_numeric_cols = house.select_dtypes(include = [non_numeric_dtypes]).columns\n",
    "numeric_cols = house.select_dtypes(include = numeric_dtypes).columns\n",
    "(len(numeric_cols) + len(non_numeric_cols)) == len(house.columns)"
   ]
  },
  {
   "cell_type": "markdown",
   "id": "66c021e2",
   "metadata": {},
   "source": [
    "---\n",
    "Detecção de outliers: aqui utilizei o algoritmo KNN para detectar os valores que possuem valor muito discrepantes em relação aos seus vizinhos mais próximos (inspirado na fonte 2 das referências):"
   ]
  },
  {
   "cell_type": "code",
   "execution_count": 17,
   "id": "bd32d1d7",
   "metadata": {},
   "outputs": [],
   "source": [
    "detector = KNN()\n",
    "detector.fit(house.loc[:, numeric_cols])\n",
    "outliers_predict = detector.labels_"
   ]
  },
  {
   "cell_type": "code",
   "execution_count": 18,
   "id": "b11a79ef",
   "metadata": {},
   "outputs": [
    {
     "name": "stdout",
     "output_type": "stream",
     "text": [
      "There are 134 outliers\n"
     ]
    }
   ],
   "source": [
    "outliers_index = [index for index in range(len(outliers_predict)) if outliers_predict[index] == 1]\n",
    "print(f'There are {len(outliers_index)} outliers')"
   ]
  },
  {
   "cell_type": "markdown",
   "id": "94a4df5a",
   "metadata": {},
   "source": [
    "Excluindo os valores discrepantes:"
   ]
  },
  {
   "cell_type": "code",
   "execution_count": 19,
   "id": "ed7e2b8e",
   "metadata": {},
   "outputs": [],
   "source": [
    "outliers_list = house.iloc[outliers_index,:]\n",
    "house.drop(house.index[outliers_index], inplace=True)"
   ]
  },
  {
   "cell_type": "code",
   "execution_count": 20,
   "id": "ec1171e9",
   "metadata": {},
   "outputs": [
    {
     "data": {
      "text/html": [
       "<div>\n",
       "<style scoped>\n",
       "    .dataframe tbody tr th:only-of-type {\n",
       "        vertical-align: middle;\n",
       "    }\n",
       "\n",
       "    .dataframe tbody tr th {\n",
       "        vertical-align: top;\n",
       "    }\n",
       "\n",
       "    .dataframe thead th {\n",
       "        text-align: right;\n",
       "    }\n",
       "</style>\n",
       "<table border=\"1\" class=\"dataframe\">\n",
       "  <thead>\n",
       "    <tr style=\"text-align: right;\">\n",
       "      <th></th>\n",
       "      <th>Id</th>\n",
       "      <th>MSSubClass</th>\n",
       "      <th>MSZoning</th>\n",
       "      <th>LotArea</th>\n",
       "      <th>Street</th>\n",
       "      <th>LotShape</th>\n",
       "      <th>LandContour</th>\n",
       "      <th>Utilities</th>\n",
       "      <th>LotConfig</th>\n",
       "      <th>LandSlope</th>\n",
       "      <th>...</th>\n",
       "      <th>EnclosedPorch</th>\n",
       "      <th>3SsnPorch</th>\n",
       "      <th>ScreenPorch</th>\n",
       "      <th>PoolArea</th>\n",
       "      <th>MiscVal</th>\n",
       "      <th>MoSold</th>\n",
       "      <th>YrSold</th>\n",
       "      <th>SaleType</th>\n",
       "      <th>SaleCondition</th>\n",
       "      <th>SalePrice</th>\n",
       "    </tr>\n",
       "  </thead>\n",
       "  <tbody>\n",
       "    <tr>\n",
       "      <th>11</th>\n",
       "      <td>12</td>\n",
       "      <td>60</td>\n",
       "      <td>RL</td>\n",
       "      <td>11924</td>\n",
       "      <td>Pave</td>\n",
       "      <td>IR1</td>\n",
       "      <td>Lvl</td>\n",
       "      <td>AllPub</td>\n",
       "      <td>Inside</td>\n",
       "      <td>Gtl</td>\n",
       "      <td>...</td>\n",
       "      <td>0</td>\n",
       "      <td>0</td>\n",
       "      <td>0</td>\n",
       "      <td>0</td>\n",
       "      <td>0</td>\n",
       "      <td>7</td>\n",
       "      <td>2006</td>\n",
       "      <td>New</td>\n",
       "      <td>Partial</td>\n",
       "      <td>345000</td>\n",
       "    </tr>\n",
       "    <tr>\n",
       "      <th>29</th>\n",
       "      <td>30</td>\n",
       "      <td>30</td>\n",
       "      <td>RM</td>\n",
       "      <td>6324</td>\n",
       "      <td>Pave</td>\n",
       "      <td>IR1</td>\n",
       "      <td>Lvl</td>\n",
       "      <td>AllPub</td>\n",
       "      <td>Inside</td>\n",
       "      <td>Gtl</td>\n",
       "      <td>...</td>\n",
       "      <td>87</td>\n",
       "      <td>0</td>\n",
       "      <td>0</td>\n",
       "      <td>0</td>\n",
       "      <td>0</td>\n",
       "      <td>5</td>\n",
       "      <td>2008</td>\n",
       "      <td>WD</td>\n",
       "      <td>Normal</td>\n",
       "      <td>68500</td>\n",
       "    </tr>\n",
       "    <tr>\n",
       "      <th>30</th>\n",
       "      <td>31</td>\n",
       "      <td>70</td>\n",
       "      <td>C (all)</td>\n",
       "      <td>8500</td>\n",
       "      <td>Pave</td>\n",
       "      <td>Reg</td>\n",
       "      <td>Lvl</td>\n",
       "      <td>AllPub</td>\n",
       "      <td>Inside</td>\n",
       "      <td>Gtl</td>\n",
       "      <td>...</td>\n",
       "      <td>172</td>\n",
       "      <td>0</td>\n",
       "      <td>0</td>\n",
       "      <td>0</td>\n",
       "      <td>0</td>\n",
       "      <td>7</td>\n",
       "      <td>2008</td>\n",
       "      <td>WD</td>\n",
       "      <td>Normal</td>\n",
       "      <td>40000</td>\n",
       "    </tr>\n",
       "    <tr>\n",
       "      <th>53</th>\n",
       "      <td>54</td>\n",
       "      <td>20</td>\n",
       "      <td>RL</td>\n",
       "      <td>50271</td>\n",
       "      <td>Pave</td>\n",
       "      <td>IR1</td>\n",
       "      <td>Low</td>\n",
       "      <td>AllPub</td>\n",
       "      <td>Inside</td>\n",
       "      <td>Gtl</td>\n",
       "      <td>...</td>\n",
       "      <td>0</td>\n",
       "      <td>0</td>\n",
       "      <td>0</td>\n",
       "      <td>0</td>\n",
       "      <td>0</td>\n",
       "      <td>11</td>\n",
       "      <td>2006</td>\n",
       "      <td>WD</td>\n",
       "      <td>Normal</td>\n",
       "      <td>385000</td>\n",
       "    </tr>\n",
       "    <tr>\n",
       "      <th>58</th>\n",
       "      <td>59</td>\n",
       "      <td>60</td>\n",
       "      <td>RL</td>\n",
       "      <td>13682</td>\n",
       "      <td>Pave</td>\n",
       "      <td>IR2</td>\n",
       "      <td>HLS</td>\n",
       "      <td>AllPub</td>\n",
       "      <td>CulDSac</td>\n",
       "      <td>Gtl</td>\n",
       "      <td>...</td>\n",
       "      <td>37</td>\n",
       "      <td>0</td>\n",
       "      <td>0</td>\n",
       "      <td>0</td>\n",
       "      <td>0</td>\n",
       "      <td>10</td>\n",
       "      <td>2006</td>\n",
       "      <td>New</td>\n",
       "      <td>Partial</td>\n",
       "      <td>438780</td>\n",
       "    </tr>\n",
       "    <tr>\n",
       "      <th>...</th>\n",
       "      <td>...</td>\n",
       "      <td>...</td>\n",
       "      <td>...</td>\n",
       "      <td>...</td>\n",
       "      <td>...</td>\n",
       "      <td>...</td>\n",
       "      <td>...</td>\n",
       "      <td>...</td>\n",
       "      <td>...</td>\n",
       "      <td>...</td>\n",
       "      <td>...</td>\n",
       "      <td>...</td>\n",
       "      <td>...</td>\n",
       "      <td>...</td>\n",
       "      <td>...</td>\n",
       "      <td>...</td>\n",
       "      <td>...</td>\n",
       "      <td>...</td>\n",
       "      <td>...</td>\n",
       "      <td>...</td>\n",
       "      <td>...</td>\n",
       "    </tr>\n",
       "    <tr>\n",
       "      <th>1423</th>\n",
       "      <td>1424</td>\n",
       "      <td>80</td>\n",
       "      <td>RL</td>\n",
       "      <td>19690</td>\n",
       "      <td>Pave</td>\n",
       "      <td>IR1</td>\n",
       "      <td>Lvl</td>\n",
       "      <td>AllPub</td>\n",
       "      <td>CulDSac</td>\n",
       "      <td>Gtl</td>\n",
       "      <td>...</td>\n",
       "      <td>0</td>\n",
       "      <td>0</td>\n",
       "      <td>0</td>\n",
       "      <td>738</td>\n",
       "      <td>0</td>\n",
       "      <td>8</td>\n",
       "      <td>2006</td>\n",
       "      <td>WD</td>\n",
       "      <td>Alloca</td>\n",
       "      <td>274970</td>\n",
       "    </tr>\n",
       "    <tr>\n",
       "      <th>1430</th>\n",
       "      <td>1431</td>\n",
       "      <td>60</td>\n",
       "      <td>RL</td>\n",
       "      <td>21930</td>\n",
       "      <td>Pave</td>\n",
       "      <td>IR3</td>\n",
       "      <td>Lvl</td>\n",
       "      <td>AllPub</td>\n",
       "      <td>Inside</td>\n",
       "      <td>Gtl</td>\n",
       "      <td>...</td>\n",
       "      <td>0</td>\n",
       "      <td>0</td>\n",
       "      <td>0</td>\n",
       "      <td>0</td>\n",
       "      <td>0</td>\n",
       "      <td>7</td>\n",
       "      <td>2006</td>\n",
       "      <td>WD</td>\n",
       "      <td>Normal</td>\n",
       "      <td>192140</td>\n",
       "    </tr>\n",
       "    <tr>\n",
       "      <th>1432</th>\n",
       "      <td>1433</td>\n",
       "      <td>30</td>\n",
       "      <td>RL</td>\n",
       "      <td>10800</td>\n",
       "      <td>Pave</td>\n",
       "      <td>Reg</td>\n",
       "      <td>Lvl</td>\n",
       "      <td>AllPub</td>\n",
       "      <td>Inside</td>\n",
       "      <td>Gtl</td>\n",
       "      <td>...</td>\n",
       "      <td>0</td>\n",
       "      <td>0</td>\n",
       "      <td>0</td>\n",
       "      <td>0</td>\n",
       "      <td>0</td>\n",
       "      <td>8</td>\n",
       "      <td>2007</td>\n",
       "      <td>WD</td>\n",
       "      <td>Normal</td>\n",
       "      <td>64500</td>\n",
       "    </tr>\n",
       "    <tr>\n",
       "      <th>1437</th>\n",
       "      <td>1438</td>\n",
       "      <td>20</td>\n",
       "      <td>RL</td>\n",
       "      <td>12444</td>\n",
       "      <td>Pave</td>\n",
       "      <td>Reg</td>\n",
       "      <td>Lvl</td>\n",
       "      <td>AllPub</td>\n",
       "      <td>FR2</td>\n",
       "      <td>Gtl</td>\n",
       "      <td>...</td>\n",
       "      <td>0</td>\n",
       "      <td>304</td>\n",
       "      <td>0</td>\n",
       "      <td>0</td>\n",
       "      <td>0</td>\n",
       "      <td>11</td>\n",
       "      <td>2008</td>\n",
       "      <td>New</td>\n",
       "      <td>Partial</td>\n",
       "      <td>394617</td>\n",
       "    </tr>\n",
       "    <tr>\n",
       "      <th>1446</th>\n",
       "      <td>1447</td>\n",
       "      <td>20</td>\n",
       "      <td>RL</td>\n",
       "      <td>26142</td>\n",
       "      <td>Pave</td>\n",
       "      <td>IR1</td>\n",
       "      <td>Lvl</td>\n",
       "      <td>AllPub</td>\n",
       "      <td>CulDSac</td>\n",
       "      <td>Gtl</td>\n",
       "      <td>...</td>\n",
       "      <td>0</td>\n",
       "      <td>0</td>\n",
       "      <td>0</td>\n",
       "      <td>0</td>\n",
       "      <td>0</td>\n",
       "      <td>4</td>\n",
       "      <td>2010</td>\n",
       "      <td>WD</td>\n",
       "      <td>Normal</td>\n",
       "      <td>157900</td>\n",
       "    </tr>\n",
       "  </tbody>\n",
       "</table>\n",
       "<p>134 rows × 75 columns</p>\n",
       "</div>"
      ],
      "text/plain": [
       "        Id  MSSubClass MSZoning  LotArea Street LotShape LandContour  \\\n",
       "11      12          60       RL    11924   Pave      IR1         Lvl   \n",
       "29      30          30       RM     6324   Pave      IR1         Lvl   \n",
       "30      31          70  C (all)     8500   Pave      Reg         Lvl   \n",
       "53      54          20       RL    50271   Pave      IR1         Low   \n",
       "58      59          60       RL    13682   Pave      IR2         HLS   \n",
       "...    ...         ...      ...      ...    ...      ...         ...   \n",
       "1423  1424          80       RL    19690   Pave      IR1         Lvl   \n",
       "1430  1431          60       RL    21930   Pave      IR3         Lvl   \n",
       "1432  1433          30       RL    10800   Pave      Reg         Lvl   \n",
       "1437  1438          20       RL    12444   Pave      Reg         Lvl   \n",
       "1446  1447          20       RL    26142   Pave      IR1         Lvl   \n",
       "\n",
       "     Utilities LotConfig LandSlope  ... EnclosedPorch 3SsnPorch ScreenPorch  \\\n",
       "11      AllPub    Inside       Gtl  ...             0         0           0   \n",
       "29      AllPub    Inside       Gtl  ...            87         0           0   \n",
       "30      AllPub    Inside       Gtl  ...           172         0           0   \n",
       "53      AllPub    Inside       Gtl  ...             0         0           0   \n",
       "58      AllPub   CulDSac       Gtl  ...            37         0           0   \n",
       "...        ...       ...       ...  ...           ...       ...         ...   \n",
       "1423    AllPub   CulDSac       Gtl  ...             0         0           0   \n",
       "1430    AllPub    Inside       Gtl  ...             0         0           0   \n",
       "1432    AllPub    Inside       Gtl  ...             0         0           0   \n",
       "1437    AllPub       FR2       Gtl  ...             0       304           0   \n",
       "1446    AllPub   CulDSac       Gtl  ...             0         0           0   \n",
       "\n",
       "     PoolArea MiscVal  MoSold  YrSold  SaleType  SaleCondition SalePrice  \n",
       "11          0       0       7    2006       New        Partial    345000  \n",
       "29          0       0       5    2008        WD         Normal     68500  \n",
       "30          0       0       7    2008        WD         Normal     40000  \n",
       "53          0       0      11    2006        WD         Normal    385000  \n",
       "58          0       0      10    2006       New        Partial    438780  \n",
       "...       ...     ...     ...     ...       ...            ...       ...  \n",
       "1423      738       0       8    2006        WD         Alloca    274970  \n",
       "1430        0       0       7    2006        WD         Normal    192140  \n",
       "1432        0       0       8    2007        WD         Normal     64500  \n",
       "1437        0       0      11    2008       New        Partial    394617  \n",
       "1446        0       0       4    2010        WD         Normal    157900  \n",
       "\n",
       "[134 rows x 75 columns]"
      ]
     },
     "execution_count": 20,
     "metadata": {},
     "output_type": "execute_result"
    }
   ],
   "source": [
    "# Lista de linhas excluídas\n",
    "outliers_list"
   ]
  },
  {
   "cell_type": "code",
   "execution_count": 21,
   "id": "bc39ddcc",
   "metadata": {},
   "outputs": [
    {
     "name": "stdout",
     "output_type": "stream",
     "text": [
      "This dataset contains 1204 rows and 75 columns.\n"
     ]
    }
   ],
   "source": [
    "print_dataset_shape(house)"
   ]
  },
  {
   "cell_type": "code",
   "execution_count": 22,
   "id": "b58616ae",
   "metadata": {},
   "outputs": [
    {
     "data": {
      "text/html": [
       "<div>\n",
       "<style scoped>\n",
       "    .dataframe tbody tr th:only-of-type {\n",
       "        vertical-align: middle;\n",
       "    }\n",
       "\n",
       "    .dataframe tbody tr th {\n",
       "        vertical-align: top;\n",
       "    }\n",
       "\n",
       "    .dataframe thead th {\n",
       "        text-align: right;\n",
       "    }\n",
       "</style>\n",
       "<table border=\"1\" class=\"dataframe\">\n",
       "  <thead>\n",
       "    <tr style=\"text-align: right;\">\n",
       "      <th></th>\n",
       "      <th>min</th>\n",
       "      <th>max</th>\n",
       "      <th>mean</th>\n",
       "    </tr>\n",
       "  </thead>\n",
       "  <tbody>\n",
       "    <tr>\n",
       "      <th>BsmtHalfBath</th>\n",
       "      <td>0.0</td>\n",
       "      <td>2.0</td>\n",
       "      <td>0.059801</td>\n",
       "    </tr>\n",
       "    <tr>\n",
       "      <th>BsmtFullBath</th>\n",
       "      <td>0.0</td>\n",
       "      <td>2.0</td>\n",
       "      <td>0.416113</td>\n",
       "    </tr>\n",
       "    <tr>\n",
       "      <th>HalfBath</th>\n",
       "      <td>0.0</td>\n",
       "      <td>2.0</td>\n",
       "      <td>0.392857</td>\n",
       "    </tr>\n",
       "    <tr>\n",
       "      <th>FullBath</th>\n",
       "      <td>0.0</td>\n",
       "      <td>3.0</td>\n",
       "      <td>1.546512</td>\n",
       "    </tr>\n",
       "    <tr>\n",
       "      <th>KitchenAbvGr</th>\n",
       "      <td>1.0</td>\n",
       "      <td>3.0</td>\n",
       "      <td>1.030731</td>\n",
       "    </tr>\n",
       "    <tr>\n",
       "      <th>Fireplaces</th>\n",
       "      <td>0.0</td>\n",
       "      <td>3.0</td>\n",
       "      <td>0.599668</td>\n",
       "    </tr>\n",
       "    <tr>\n",
       "      <th>GarageCars</th>\n",
       "      <td>1.0</td>\n",
       "      <td>4.0</td>\n",
       "      <td>1.820598</td>\n",
       "    </tr>\n",
       "    <tr>\n",
       "      <th>BedroomAbvGr</th>\n",
       "      <td>0.0</td>\n",
       "      <td>6.0</td>\n",
       "      <td>2.860465</td>\n",
       "    </tr>\n",
       "    <tr>\n",
       "      <th>OverallCond</th>\n",
       "      <td>2.0</td>\n",
       "      <td>9.0</td>\n",
       "      <td>5.621262</td>\n",
       "    </tr>\n",
       "    <tr>\n",
       "      <th>OverallQual</th>\n",
       "      <td>3.0</td>\n",
       "      <td>10.0</td>\n",
       "      <td>6.122924</td>\n",
       "    </tr>\n",
       "    <tr>\n",
       "      <th>TotRmsAbvGrd</th>\n",
       "      <td>3.0</td>\n",
       "      <td>12.0</td>\n",
       "      <td>6.421927</td>\n",
       "    </tr>\n",
       "    <tr>\n",
       "      <th>MoSold</th>\n",
       "      <td>1.0</td>\n",
       "      <td>12.0</td>\n",
       "      <td>6.336379</td>\n",
       "    </tr>\n",
       "    <tr>\n",
       "      <th>MSSubClass</th>\n",
       "      <td>20.0</td>\n",
       "      <td>190.0</td>\n",
       "      <td>56.366279</td>\n",
       "    </tr>\n",
       "    <tr>\n",
       "      <th>EnclosedPorch</th>\n",
       "      <td>0.0</td>\n",
       "      <td>386.0</td>\n",
       "      <td>21.397841</td>\n",
       "    </tr>\n",
       "    <tr>\n",
       "      <th>ScreenPorch</th>\n",
       "      <td>0.0</td>\n",
       "      <td>480.0</td>\n",
       "      <td>15.387043</td>\n",
       "    </tr>\n",
       "    <tr>\n",
       "      <th>3SsnPorch</th>\n",
       "      <td>0.0</td>\n",
       "      <td>508.0</td>\n",
       "      <td>3.073920</td>\n",
       "    </tr>\n",
       "    <tr>\n",
       "      <th>LowQualFinSF</th>\n",
       "      <td>0.0</td>\n",
       "      <td>528.0</td>\n",
       "      <td>3.891196</td>\n",
       "    </tr>\n",
       "    <tr>\n",
       "      <th>OpenPorchSF</th>\n",
       "      <td>0.0</td>\n",
       "      <td>547.0</td>\n",
       "      <td>45.302326</td>\n",
       "    </tr>\n",
       "    <tr>\n",
       "      <th>PoolArea</th>\n",
       "      <td>0.0</td>\n",
       "      <td>648.0</td>\n",
       "      <td>1.016611</td>\n",
       "    </tr>\n",
       "    <tr>\n",
       "      <th>WoodDeckSF</th>\n",
       "      <td>0.0</td>\n",
       "      <td>736.0</td>\n",
       "      <td>92.753322</td>\n",
       "    </tr>\n",
       "    <tr>\n",
       "      <th>GarageArea</th>\n",
       "      <td>160.0</td>\n",
       "      <td>1390.0</td>\n",
       "      <td>485.627076</td>\n",
       "    </tr>\n",
       "    <tr>\n",
       "      <th>Id</th>\n",
       "      <td>1.0</td>\n",
       "      <td>1460.0</td>\n",
       "      <td>727.234219</td>\n",
       "    </tr>\n",
       "    <tr>\n",
       "      <th>BsmtFinSF2</th>\n",
       "      <td>0.0</td>\n",
       "      <td>1474.0</td>\n",
       "      <td>48.548173</td>\n",
       "    </tr>\n",
       "    <tr>\n",
       "      <th>MasVnrArea</th>\n",
       "      <td>0.0</td>\n",
       "      <td>1600.0</td>\n",
       "      <td>97.132060</td>\n",
       "    </tr>\n",
       "    <tr>\n",
       "      <th>2ndFlrSF</th>\n",
       "      <td>0.0</td>\n",
       "      <td>1611.0</td>\n",
       "      <td>342.088870</td>\n",
       "    </tr>\n",
       "    <tr>\n",
       "      <th>BsmtFinSF1</th>\n",
       "      <td>0.0</td>\n",
       "      <td>1880.0</td>\n",
       "      <td>432.618771</td>\n",
       "    </tr>\n",
       "    <tr>\n",
       "      <th>YearBuilt</th>\n",
       "      <td>1880.0</td>\n",
       "      <td>2009.0</td>\n",
       "      <td>1972.529070</td>\n",
       "    </tr>\n",
       "    <tr>\n",
       "      <th>GarageYrBlt</th>\n",
       "      <td>1900.0</td>\n",
       "      <td>2010.0</td>\n",
       "      <td>1978.190199</td>\n",
       "    </tr>\n",
       "    <tr>\n",
       "      <th>YearRemodAdd</th>\n",
       "      <td>1950.0</td>\n",
       "      <td>2010.0</td>\n",
       "      <td>1985.188538</td>\n",
       "    </tr>\n",
       "    <tr>\n",
       "      <th>YrSold</th>\n",
       "      <td>2006.0</td>\n",
       "      <td>2010.0</td>\n",
       "      <td>2007.803987</td>\n",
       "    </tr>\n",
       "    <tr>\n",
       "      <th>BsmtUnfSF</th>\n",
       "      <td>0.0</td>\n",
       "      <td>2042.0</td>\n",
       "      <td>572.206811</td>\n",
       "    </tr>\n",
       "    <tr>\n",
       "      <th>MiscVal</th>\n",
       "      <td>0.0</td>\n",
       "      <td>2500.0</td>\n",
       "      <td>24.775748</td>\n",
       "    </tr>\n",
       "    <tr>\n",
       "      <th>TotalBsmtSF</th>\n",
       "      <td>105.0</td>\n",
       "      <td>2524.0</td>\n",
       "      <td>1053.373754</td>\n",
       "    </tr>\n",
       "    <tr>\n",
       "      <th>1stFlrSF</th>\n",
       "      <td>483.0</td>\n",
       "      <td>2898.0</td>\n",
       "      <td>1132.997508</td>\n",
       "    </tr>\n",
       "    <tr>\n",
       "      <th>GrLivArea</th>\n",
       "      <td>616.0</td>\n",
       "      <td>3447.0</td>\n",
       "      <td>1478.977575</td>\n",
       "    </tr>\n",
       "    <tr>\n",
       "      <th>LotArea</th>\n",
       "      <td>1300.0</td>\n",
       "      <td>21453.0</td>\n",
       "      <td>9291.499169</td>\n",
       "    </tr>\n",
       "    <tr>\n",
       "      <th>SalePrice</th>\n",
       "      <td>60000.0</td>\n",
       "      <td>381000.0</td>\n",
       "      <td>175363.103821</td>\n",
       "    </tr>\n",
       "  </tbody>\n",
       "</table>\n",
       "</div>"
      ],
      "text/plain": [
       "                   min       max           mean\n",
       "BsmtHalfBath       0.0       2.0       0.059801\n",
       "BsmtFullBath       0.0       2.0       0.416113\n",
       "HalfBath           0.0       2.0       0.392857\n",
       "FullBath           0.0       3.0       1.546512\n",
       "KitchenAbvGr       1.0       3.0       1.030731\n",
       "Fireplaces         0.0       3.0       0.599668\n",
       "GarageCars         1.0       4.0       1.820598\n",
       "BedroomAbvGr       0.0       6.0       2.860465\n",
       "OverallCond        2.0       9.0       5.621262\n",
       "OverallQual        3.0      10.0       6.122924\n",
       "TotRmsAbvGrd       3.0      12.0       6.421927\n",
       "MoSold             1.0      12.0       6.336379\n",
       "MSSubClass        20.0     190.0      56.366279\n",
       "EnclosedPorch      0.0     386.0      21.397841\n",
       "ScreenPorch        0.0     480.0      15.387043\n",
       "3SsnPorch          0.0     508.0       3.073920\n",
       "LowQualFinSF       0.0     528.0       3.891196\n",
       "OpenPorchSF        0.0     547.0      45.302326\n",
       "PoolArea           0.0     648.0       1.016611\n",
       "WoodDeckSF         0.0     736.0      92.753322\n",
       "GarageArea       160.0    1390.0     485.627076\n",
       "Id                 1.0    1460.0     727.234219\n",
       "BsmtFinSF2         0.0    1474.0      48.548173\n",
       "MasVnrArea         0.0    1600.0      97.132060\n",
       "2ndFlrSF           0.0    1611.0     342.088870\n",
       "BsmtFinSF1         0.0    1880.0     432.618771\n",
       "YearBuilt       1880.0    2009.0    1972.529070\n",
       "GarageYrBlt     1900.0    2010.0    1978.190199\n",
       "YearRemodAdd    1950.0    2010.0    1985.188538\n",
       "YrSold          2006.0    2010.0    2007.803987\n",
       "BsmtUnfSF          0.0    2042.0     572.206811\n",
       "MiscVal            0.0    2500.0      24.775748\n",
       "TotalBsmtSF      105.0    2524.0    1053.373754\n",
       "1stFlrSF         483.0    2898.0    1132.997508\n",
       "GrLivArea        616.0    3447.0    1478.977575\n",
       "LotArea         1300.0   21453.0    9291.499169\n",
       "SalePrice      60000.0  381000.0  175363.103821"
      ]
     },
     "execution_count": 22,
     "metadata": {},
     "output_type": "execute_result"
    }
   ],
   "source": [
    "# inspecionando os valores mínimos e máximos por atributo\n",
    "house.describe(include=numeric_dtypes).loc[[\"min\",\"max\",\"mean\"]].T.sort_values(\"max\")"
   ]
  },
  {
   "cell_type": "markdown",
   "id": "e6af662e",
   "metadata": {},
   "source": [
    "---\n",
    "Separando o dataset nas bases de variáveis preditoras (X) e variável target y:"
   ]
  },
  {
   "cell_type": "code",
   "execution_count": 23,
   "id": "9c021024",
   "metadata": {},
   "outputs": [],
   "source": [
    "X_houses = house.drop([target, \"Id\"], axis=1)\n",
    "y_houses = house[target]"
   ]
  },
  {
   "cell_type": "markdown",
   "id": "5f3d7e9e",
   "metadata": {},
   "source": [
    "Processamento das variáveis não numéricas: label encoder"
   ]
  },
  {
   "cell_type": "code",
   "execution_count": 24,
   "id": "2524df31",
   "metadata": {},
   "outputs": [
    {
     "data": {
      "text/html": [
       "<div>\n",
       "<style scoped>\n",
       "    .dataframe tbody tr th:only-of-type {\n",
       "        vertical-align: middle;\n",
       "    }\n",
       "\n",
       "    .dataframe tbody tr th {\n",
       "        vertical-align: top;\n",
       "    }\n",
       "\n",
       "    .dataframe thead th {\n",
       "        text-align: right;\n",
       "    }\n",
       "</style>\n",
       "<table border=\"1\" class=\"dataframe\">\n",
       "  <thead>\n",
       "    <tr style=\"text-align: right;\">\n",
       "      <th></th>\n",
       "      <th>MSSubClass</th>\n",
       "      <th>MSZoning</th>\n",
       "      <th>LotArea</th>\n",
       "      <th>Street</th>\n",
       "      <th>LotShape</th>\n",
       "      <th>LandContour</th>\n",
       "      <th>Utilities</th>\n",
       "      <th>LotConfig</th>\n",
       "      <th>LandSlope</th>\n",
       "      <th>Neighborhood</th>\n",
       "      <th>...</th>\n",
       "      <th>OpenPorchSF</th>\n",
       "      <th>EnclosedPorch</th>\n",
       "      <th>3SsnPorch</th>\n",
       "      <th>ScreenPorch</th>\n",
       "      <th>PoolArea</th>\n",
       "      <th>MiscVal</th>\n",
       "      <th>MoSold</th>\n",
       "      <th>YrSold</th>\n",
       "      <th>SaleType</th>\n",
       "      <th>SaleCondition</th>\n",
       "    </tr>\n",
       "  </thead>\n",
       "  <tbody>\n",
       "    <tr>\n",
       "      <th>0</th>\n",
       "      <td>60</td>\n",
       "      <td>3</td>\n",
       "      <td>8450</td>\n",
       "      <td>1</td>\n",
       "      <td>3</td>\n",
       "      <td>3</td>\n",
       "      <td>0</td>\n",
       "      <td>4</td>\n",
       "      <td>0</td>\n",
       "      <td>5</td>\n",
       "      <td>...</td>\n",
       "      <td>61</td>\n",
       "      <td>0</td>\n",
       "      <td>0</td>\n",
       "      <td>0</td>\n",
       "      <td>0</td>\n",
       "      <td>0</td>\n",
       "      <td>2</td>\n",
       "      <td>2008</td>\n",
       "      <td>8</td>\n",
       "      <td>4</td>\n",
       "    </tr>\n",
       "    <tr>\n",
       "      <th>1</th>\n",
       "      <td>20</td>\n",
       "      <td>3</td>\n",
       "      <td>9600</td>\n",
       "      <td>1</td>\n",
       "      <td>3</td>\n",
       "      <td>3</td>\n",
       "      <td>0</td>\n",
       "      <td>2</td>\n",
       "      <td>0</td>\n",
       "      <td>24</td>\n",
       "      <td>...</td>\n",
       "      <td>0</td>\n",
       "      <td>0</td>\n",
       "      <td>0</td>\n",
       "      <td>0</td>\n",
       "      <td>0</td>\n",
       "      <td>0</td>\n",
       "      <td>5</td>\n",
       "      <td>2007</td>\n",
       "      <td>8</td>\n",
       "      <td>4</td>\n",
       "    </tr>\n",
       "    <tr>\n",
       "      <th>2</th>\n",
       "      <td>60</td>\n",
       "      <td>3</td>\n",
       "      <td>11250</td>\n",
       "      <td>1</td>\n",
       "      <td>0</td>\n",
       "      <td>3</td>\n",
       "      <td>0</td>\n",
       "      <td>4</td>\n",
       "      <td>0</td>\n",
       "      <td>5</td>\n",
       "      <td>...</td>\n",
       "      <td>42</td>\n",
       "      <td>0</td>\n",
       "      <td>0</td>\n",
       "      <td>0</td>\n",
       "      <td>0</td>\n",
       "      <td>0</td>\n",
       "      <td>9</td>\n",
       "      <td>2008</td>\n",
       "      <td>8</td>\n",
       "      <td>4</td>\n",
       "    </tr>\n",
       "    <tr>\n",
       "      <th>3</th>\n",
       "      <td>70</td>\n",
       "      <td>3</td>\n",
       "      <td>9550</td>\n",
       "      <td>1</td>\n",
       "      <td>0</td>\n",
       "      <td>3</td>\n",
       "      <td>0</td>\n",
       "      <td>0</td>\n",
       "      <td>0</td>\n",
       "      <td>6</td>\n",
       "      <td>...</td>\n",
       "      <td>35</td>\n",
       "      <td>272</td>\n",
       "      <td>0</td>\n",
       "      <td>0</td>\n",
       "      <td>0</td>\n",
       "      <td>0</td>\n",
       "      <td>2</td>\n",
       "      <td>2006</td>\n",
       "      <td>8</td>\n",
       "      <td>0</td>\n",
       "    </tr>\n",
       "    <tr>\n",
       "      <th>4</th>\n",
       "      <td>60</td>\n",
       "      <td>3</td>\n",
       "      <td>14260</td>\n",
       "      <td>1</td>\n",
       "      <td>0</td>\n",
       "      <td>3</td>\n",
       "      <td>0</td>\n",
       "      <td>2</td>\n",
       "      <td>0</td>\n",
       "      <td>15</td>\n",
       "      <td>...</td>\n",
       "      <td>84</td>\n",
       "      <td>0</td>\n",
       "      <td>0</td>\n",
       "      <td>0</td>\n",
       "      <td>0</td>\n",
       "      <td>0</td>\n",
       "      <td>12</td>\n",
       "      <td>2008</td>\n",
       "      <td>8</td>\n",
       "      <td>4</td>\n",
       "    </tr>\n",
       "  </tbody>\n",
       "</table>\n",
       "<p>5 rows × 73 columns</p>\n",
       "</div>"
      ],
      "text/plain": [
       "   MSSubClass  MSZoning  LotArea  Street  LotShape  LandContour  Utilities  \\\n",
       "0          60         3     8450       1         3            3          0   \n",
       "1          20         3     9600       1         3            3          0   \n",
       "2          60         3    11250       1         0            3          0   \n",
       "3          70         3     9550       1         0            3          0   \n",
       "4          60         3    14260       1         0            3          0   \n",
       "\n",
       "   LotConfig  LandSlope  Neighborhood  ...  OpenPorchSF  EnclosedPorch  \\\n",
       "0          4          0             5  ...           61              0   \n",
       "1          2          0            24  ...            0              0   \n",
       "2          4          0             5  ...           42              0   \n",
       "3          0          0             6  ...           35            272   \n",
       "4          2          0            15  ...           84              0   \n",
       "\n",
       "   3SsnPorch  ScreenPorch  PoolArea  MiscVal  MoSold  YrSold  SaleType  \\\n",
       "0          0            0         0        0       2    2008         8   \n",
       "1          0            0         0        0       5    2007         8   \n",
       "2          0            0         0        0       9    2008         8   \n",
       "3          0            0         0        0       2    2006         8   \n",
       "4          0            0         0        0      12    2008         8   \n",
       "\n",
       "   SaleCondition  \n",
       "0              4  \n",
       "1              4  \n",
       "2              4  \n",
       "3              0  \n",
       "4              4  \n",
       "\n",
       "[5 rows x 73 columns]"
      ]
     },
     "execution_count": 24,
     "metadata": {},
     "output_type": "execute_result"
    }
   ],
   "source": [
    "for col in non_numeric_cols:\n",
    "    X_houses[col] = X_houses[col].astype('category').cat.codes\n",
    "    \n",
    "X_houses.head()"
   ]
  },
  {
   "cell_type": "code",
   "execution_count": 25,
   "id": "b27ccb9a",
   "metadata": {},
   "outputs": [
    {
     "name": "stdout",
     "output_type": "stream",
     "text": [
      "There are 0 non-numerical variables.\n"
     ]
    }
   ],
   "source": [
    "print(f'There are {len(X_houses.select_dtypes(include = [non_numeric_dtypes]).columns)} non-numerical variables.')"
   ]
  },
  {
   "cell_type": "markdown",
   "id": "51304ba0",
   "metadata": {},
   "source": [
    "---\n",
    "Checando correlação entre as variáveis: <br>\n",
    "Para pares de variáveis com alta correlação (> 0.95), uma delas será apagada:"
   ]
  },
  {
   "cell_type": "code",
   "execution_count": 26,
   "id": "6670eb0e",
   "metadata": {},
   "outputs": [],
   "source": [
    "matrix_corr = X_houses.corr().abs().unstack().sort_values(ascending=False)\n",
    "highest_corr_attributes = matrix_corr[(matrix_corr.values > thresold_high_correlation) & (matrix_corr.values != 1)]\n",
    "cols_to_drop = [cols[0] for i,cols in enumerate(highest_corr_attributes.index) if i % 2 == 0]\n",
    "X_houses.drop(cols_to_drop, axis=1, inplace=True)"
   ]
  },
  {
   "cell_type": "code",
   "execution_count": 27,
   "id": "02a829f8",
   "metadata": {},
   "outputs": [
    {
     "name": "stdout",
     "output_type": "stream",
     "text": [
      "Number of columns highly correlated and dropped: 0.\n",
      "This dataset contains 1204 rows and 73 columns.\n"
     ]
    }
   ],
   "source": [
    "print(f'Number of columns highly correlated and dropped: {len(cols_to_drop)}.')\n",
    "print_dataset_shape(X_houses)"
   ]
  },
  {
   "cell_type": "markdown",
   "id": "e3340357",
   "metadata": {},
   "source": [
    "---\n",
    "Escalonamento dos dados: <br>\n",
    "Usei o método da normalização, que considera os valores máximo e mínimo de cada atributo previsor. A expressão matemática da normalização pode ser encontrada aqui: https://scikit-learn.org/stable/modules/generated/sklearn.preprocessing.MinMaxScaler.html. Porém, também fiz experimentações com o método de padronização e não obtive mudanças significativas nos resultados das análises."
   ]
  },
  {
   "cell_type": "code",
   "execution_count": 28,
   "id": "5f452595",
   "metadata": {},
   "outputs": [],
   "source": [
    "scaler = MinMaxScaler()\n",
    "X_houses_scaler = scaler.fit_transform(X_houses.values)"
   ]
  },
  {
   "cell_type": "markdown",
   "id": "0ed1d3bd",
   "metadata": {},
   "source": [
    "---\n",
    "\n",
    "#### Seleção de atributos\n",
    "\n",
    "Método TreeCliassifier: o primeiro passo foi treinar o algoritmo classificador com a base de dados para que ele possa aprender sobre eles, e então utilizar o atributo feature_importances_ do objeto classificador para conhecer a importância relativa de cada uma das variáveis previsoras:"
   ]
  },
  {
   "cell_type": "code",
   "execution_count": 29,
   "id": "ba847fcf",
   "metadata": {},
   "outputs": [],
   "source": [
    "tree_clf = ExtraTreesClassifier()\n",
    "tree_clf.fit(X_houses_scaler, y_houses)\n",
    "features = tree_clf.feature_importances_"
   ]
  },
  {
   "cell_type": "code",
   "execution_count": 30,
   "id": "890e5472",
   "metadata": {},
   "outputs": [],
   "source": [
    "data = {\"Feature_name\": X_houses.columns, \"Relative_importance\": features*100}\n",
    "feat_importance_df = pd.DataFrame(data).sort_values(by=\"Relative_importance\", ascending=False)"
   ]
  },
  {
   "cell_type": "code",
   "execution_count": 31,
   "id": "dfeb09c4",
   "metadata": {},
   "outputs": [
    {
     "data": {
      "text/html": [
       "<div>\n",
       "<style scoped>\n",
       "    .dataframe tbody tr th:only-of-type {\n",
       "        vertical-align: middle;\n",
       "    }\n",
       "\n",
       "    .dataframe tbody tr th {\n",
       "        vertical-align: top;\n",
       "    }\n",
       "\n",
       "    .dataframe thead th {\n",
       "        text-align: right;\n",
       "    }\n",
       "</style>\n",
       "<table border=\"1\" class=\"dataframe\">\n",
       "  <thead>\n",
       "    <tr style=\"text-align: right;\">\n",
       "      <th></th>\n",
       "      <th>Feature_name</th>\n",
       "      <th>Relative_importance</th>\n",
       "    </tr>\n",
       "  </thead>\n",
       "  <tbody>\n",
       "    <tr>\n",
       "      <th>43</th>\n",
       "      <td>GrLivArea</td>\n",
       "      <td>3.140910</td>\n",
       "    </tr>\n",
       "    <tr>\n",
       "      <th>69</th>\n",
       "      <td>MoSold</td>\n",
       "      <td>3.128512</td>\n",
       "    </tr>\n",
       "    <tr>\n",
       "      <th>34</th>\n",
       "      <td>BsmtUnfSF</td>\n",
       "      <td>3.117686</td>\n",
       "    </tr>\n",
       "    <tr>\n",
       "      <th>2</th>\n",
       "      <td>LotArea</td>\n",
       "      <td>3.086727</td>\n",
       "    </tr>\n",
       "    <tr>\n",
       "      <th>58</th>\n",
       "      <td>GarageArea</td>\n",
       "      <td>3.035670</td>\n",
       "    </tr>\n",
       "    <tr>\n",
       "      <th>...</th>\n",
       "      <td>...</td>\n",
       "      <td>...</td>\n",
       "    </tr>\n",
       "    <tr>\n",
       "      <th>19</th>\n",
       "      <td>RoofMatl</td>\n",
       "      <td>0.064094</td>\n",
       "    </tr>\n",
       "    <tr>\n",
       "      <th>11</th>\n",
       "      <td>Condition2</td>\n",
       "      <td>0.059005</td>\n",
       "    </tr>\n",
       "    <tr>\n",
       "      <th>67</th>\n",
       "      <td>PoolArea</td>\n",
       "      <td>0.024428</td>\n",
       "    </tr>\n",
       "    <tr>\n",
       "      <th>3</th>\n",
       "      <td>Street</td>\n",
       "      <td>0.004503</td>\n",
       "    </tr>\n",
       "    <tr>\n",
       "      <th>6</th>\n",
       "      <td>Utilities</td>\n",
       "      <td>0.003439</td>\n",
       "    </tr>\n",
       "  </tbody>\n",
       "</table>\n",
       "<p>73 rows × 2 columns</p>\n",
       "</div>"
      ],
      "text/plain": [
       "   Feature_name  Relative_importance\n",
       "43    GrLivArea             3.140910\n",
       "69       MoSold             3.128512\n",
       "34    BsmtUnfSF             3.117686\n",
       "2       LotArea             3.086727\n",
       "58   GarageArea             3.035670\n",
       "..          ...                  ...\n",
       "19     RoofMatl             0.064094\n",
       "11   Condition2             0.059005\n",
       "67     PoolArea             0.024428\n",
       "3        Street             0.004503\n",
       "6     Utilities             0.003439\n",
       "\n",
       "[73 rows x 2 columns]"
      ]
     },
     "execution_count": 31,
     "metadata": {},
     "output_type": "execute_result"
    }
   ],
   "source": [
    "feat_importance_df"
   ]
  },
  {
   "cell_type": "code",
   "execution_count": 32,
   "id": "d5cd0e25",
   "metadata": {},
   "outputs": [
    {
     "data": {
      "image/png": "[encoded data removed]",
      "text/plain": [
       "<Figure size 2880x2520 with 1 Axes>"
      ]
     },
     "metadata": {
      "needs_background": "light"
     },
     "output_type": "display_data"
    }
   ],
   "source": [
    "# Gráfico\n",
    "plt.figure(figsize = (40,35))\n",
    "sns.set(font_scale = 2)\n",
    "b = sns.barplot(x = feat_importance_df[\"Relative_importance\"], \n",
    "            y = feat_importance_df[\"Feature_name\"], \n",
    "            orient = \"h\", \n",
    "            color=\"lightgreen\")\n",
    "plt.xlabel('% Importance')     \n",
    "plt.ylabel('')            \n",
    "plt.title(\"Relative importance of the attributes\", fontdict = {'fontsize':26,'fontweight':500})\n",
    "\n",
    "plt.show()"
   ]
  },
  {
   "cell_type": "markdown",
   "id": "66198011",
   "metadata": {},
   "source": [
    "Depois eu quis entender quantas são as variáveis que apresentam uma importância relativa >= 1% (valor armazenado na variável \"thresold_relative_importance\"). E quanto da variação total dos dados elas representam (total de importância relativa acumulada: ~85%):"
   ]
  },
  {
   "cell_type": "code",
   "execution_count": 33,
   "id": "b34a4d5a",
   "metadata": {},
   "outputs": [
    {
     "name": "stdout",
     "output_type": "stream",
     "text": [
      "Total number of main features: 43.\n",
      "Total importance of the main features: 0.8652802112653212.\n"
     ]
    }
   ],
   "source": [
    "main_features = [index for index in range(len(features)) if features[index] >= thresold_relative_importance]\n",
    "print(f'Total number of main features: {len(main_features)}.')\n",
    "print(f'Total importance of the main features: {features[main_features].sum()}.')"
   ]
  },
  {
   "cell_type": "markdown",
   "id": "a8c19d68",
   "metadata": {},
   "source": [
    "E agora sim, removendo os atributos menos importantes e deixando apenas os atributos principais na base de dados:"
   ]
  },
  {
   "cell_type": "code",
   "execution_count": 34,
   "id": "eb6a922f",
   "metadata": {},
   "outputs": [
    {
     "name": "stdout",
     "output_type": "stream",
     "text": [
      "This dataset contains 1204 rows and 43 columns.\n"
     ]
    }
   ],
   "source": [
    "X_houses_scaler = pd.DataFrame(X_houses_scaler[:,main_features], columns=X_houses.columns[main_features])\n",
    "print_dataset_shape(X_houses_scaler)"
   ]
  },
  {
   "cell_type": "markdown",
   "id": "fed21113",
   "metadata": {},
   "source": [
    "_______"
   ]
  },
  {
   "cell_type": "markdown",
   "id": "e3687b22",
   "metadata": {},
   "source": [
    "#### Exportando os dados para usarmos no arquivo de construção dos modelos de machine learning:"
   ]
  },
  {
   "cell_type": "code",
   "execution_count": 35,
   "id": "8fd07a56",
   "metadata": {},
   "outputs": [],
   "source": [
    "with open(\"./data/house_prices.pkl\", mode=\"wb\") as f:\n",
    "    pickle.dump([X_houses_scaler.values, y_houses], f)"
   ]
  }
 ],
 "metadata": {
  "kernelspec": {
   "display_name": "Python 3 (ipykernel)",
   "language": "python",
   "name": "python3"
  },
  "language_info": {
   "codemirror_mode": {
    "name": "ipython",
    "version": 3
   },
   "file_extension": ".py",
   "mimetype": "text/x-python",
   "name": "python",
   "nbconvert_exporter": "python",
   "pygments_lexer": "ipython3",
   "version": "3.9.7"
  }
 },
 "nbformat": 4,
 "nbformat_minor": 5
}
