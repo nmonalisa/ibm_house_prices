{
 "cells": [
  {
   "cell_type": "markdown",
   "id": "0edd644e",
   "metadata": {},
   "source": [
    "## Construção dos modelos de  machine learning\n"
   ]
  },
  {
   "cell_type": "markdown",
   "id": "918eb001",
   "metadata": {},
   "source": [
    "---"
   ]
  },
  {
   "cell_type": "markdown",
   "id": "512719f4",
   "metadata": {},
   "source": [
    "**Objetivo geral:** construir modelos preditivos para o preço de venda de imóveis residenciais com base em dados históricos. \n",
    "\n",
    "\n",
    "**Fonte dos dados:** https://www.kaggle.com/c/house-prices-advanced-regression-techniques/overview\n",
    "\n",
    "**Outras fontes citadas**: ver seção \"Referêrencias\" na documentação do projeto.\n",
    "\n",
    "**Algoritmos utilizados:**\n",
    "* Regressão Linear\n",
    "* KNN Regressor\n",
    "* Tree Decision Regressor\n",
    "* Random Forest Regressor\n",
    "\n",
    "**Passos desenvolvidos neste notebook**\n",
    "* Construção de um modelo baseline (baseado na média da variável target)\n",
    "* Construção dos 4 demais modelos com treino único\n",
    "* Seleção dos 2 melhores modelos para tunning dos hiperparâmetros e validação cruzada\n",
    "* Seleção do modelo campeão\n",
    "* Teste de overfitting do modelo campeão\n",
    "\n",
    "---"
   ]
  },
  {
   "cell_type": "markdown",
   "id": "dd58a558",
   "metadata": {},
   "source": [
    "#### Primeira etapa, importação das bibliotecas e ingestão dos dados:"
   ]
  },
  {
   "cell_type": "code",
   "execution_count": 5,
   "id": "019911dd",
   "metadata": {},
   "outputs": [],
   "source": [
    "import pandas as pd\n",
    "import numpy as np\n",
    "import pickle\n",
    "import matplotlib.pyplot as plt\n",
    "from yellowbrick.regressor import ResidualsPlot\n",
    "from sklearn.model_selection import train_test_split\n",
    "from sklearn.model_selection import GridSearchCV\n",
    "from sklearn.model_selection import cross_val_score\n",
    "from sklearn.linear_model import LinearRegression\n",
    "from sklearn.tree import DecisionTreeRegressor\n",
    "from sklearn.ensemble import RandomForestRegressor\n",
    "from sklearn.neighbors import KNeighborsRegressor\n",
    "from sklearn.metrics import mean_absolute_error\n",
    "from sklearn.metrics import mean_absolute_percentage_error\n",
    "from sklearn.metrics import mean_squared_error\n",
    "from sklearn.metrics import r2_score\n",
    "import warnings\n"
   ]
  },
  {
   "cell_type": "code",
   "execution_count": 6,
   "id": "98483381",
   "metadata": {},
   "outputs": [],
   "source": [
    "# Configurações e variáveis globais\n",
    "warnings.filterwarnings(\"ignore\")\n",
    "n_decimal = 3\n",
    "regression_metrics = {\n",
    "                 \"MAE\": \"neg_mean_absolute_error\",\n",
    "                 \"MAPE\": \"neg_mean_absolute_percentage_error\",\n",
    "                 \"RMSE\": \"neg_root_mean_squared_error\",\n",
    "                 \"R2\": \"r2\"\n",
    "                }"
   ]
  },
  {
   "cell_type": "code",
   "execution_count": 7,
   "id": "feaa4890",
   "metadata": {},
   "outputs": [],
   "source": [
    "# carregando os dados\n",
    "path_file = \"../data/house_prices.pkl\"\n",
    "with open(path_file, \"rb\") as f:\n",
    "    X_houses, y_houses = pickle.load(f)"
   ]
  },
  {
   "cell_type": "code",
   "execution_count": 8,
   "id": "0881fc9b",
   "metadata": {},
   "outputs": [
    {
     "data": {
      "text/plain": [
       "((1204, 42), (1204,))"
      ]
     },
     "execution_count": 8,
     "metadata": {},
     "output_type": "execute_result"
    }
   ],
   "source": [
    "X_houses.shape, y_houses.shape"
   ]
  },
  {
   "cell_type": "markdown",
   "id": "fb79b2ab",
   "metadata": {},
   "source": [
    "----\n",
    "\n",
    "#### Separação dos dados em treino e teste"
   ]
  },
  {
   "cell_type": "code",
   "execution_count": 5,
   "id": "0a3ce295",
   "metadata": {},
   "outputs": [
    {
     "data": {
      "text/plain": [
       "((963, 43), (963,), (241, 43), (241,))"
      ]
     },
     "execution_count": 5,
     "metadata": {},
     "output_type": "execute_result"
    }
   ],
   "source": [
    "X_train, X_test, y_train, y_test = train_test_split(X_houses, y_houses, test_size=0.2, random_state=42)\n",
    "X_train.shape, y_train.shape, X_test.shape, y_test.shape"
   ]
  },
  {
   "cell_type": "markdown",
   "id": "253d7406",
   "metadata": {},
   "source": [
    "---\n",
    "\n",
    "#### Declarando funções para reaproveitamento de trechos de código usados em diferentes partes da análise:"
   ]
  },
  {
   "cell_type": "code",
   "execution_count": 6,
   "id": "5b664ddb",
   "metadata": {},
   "outputs": [],
   "source": [
    "def baseline_model():\n",
    "    price_houses_mean = y_houses.mean()\n",
    "    n_rows = np.arange(y_test.shape[0])\n",
    "    return [price_houses_mean for row in n_rows]"
   ]
  },
  {
   "cell_type": "code",
   "execution_count": 7,
   "id": "22d05f66",
   "metadata": {},
   "outputs": [],
   "source": [
    "def predict_y_values(model):\n",
    "    model.fit(X_train, y_train)\n",
    "    return model.predict(X_test)"
   ]
  },
  {
   "cell_type": "code",
   "execution_count": 8,
   "id": "d67db600",
   "metadata": {},
   "outputs": [],
   "source": [
    "def show_error_metrics(y_true, y_predict, r2=True):\n",
    "    print(f'MAE: {round(mean_absolute_error(y_true, y_predict),2)}')\n",
    "    print(f'MAPE: {round(mean_absolute_percentage_error(y_true, y_predict)*100,n_decimal)}%')\n",
    "    print(f'RMSE: {round(mean_squared_error(y_true, y_predict, squared=False),n_decimal)}')\n",
    "    if r2: print(f'R²: {round(r2_score(y_true, y_predict), n_decimal)}')"
   ]
  },
  {
   "cell_type": "code",
   "execution_count": 9,
   "id": "7417eb09",
   "metadata": {},
   "outputs": [],
   "source": [
    "def run_grid_search(estimator, X, y, param_grid={}, scoring=\"neg_mean_absolute_percentage_error\"):\n",
    "    grid_search = GridSearchCV(estimator=estimator, param_grid=param_grid, scoring=scoring, cv=10)\n",
    "    grid_search.fit(X,y)\n",
    "    return grid_search.best_params_, abs(grid_search.best_score_)"
   ]
  },
  {
   "cell_type": "code",
   "execution_count": 10,
   "id": "6aa9f589",
   "metadata": {},
   "outputs": [],
   "source": [
    "def show_results_gridsearch(result, metric):\n",
    "    print(f'Best params: {result[0]}')\n",
    "    print(f'{metric}: {round(result[1], n_decimal) if metric != \"MAPE\" else round(result[1]*100, n_decimal)}')\n",
    "    print(\"-\"*50)\n"
   ]
  },
  {
   "cell_type": "markdown",
   "id": "19663010",
   "metadata": {},
   "source": [
    "____"
   ]
  },
  {
   "cell_type": "markdown",
   "id": "892d1b01",
   "metadata": {},
   "source": [
    "### Construção dos modelos preditivos"
   ]
  },
  {
   "cell_type": "markdown",
   "id": "93183c75",
   "metadata": {},
   "source": [
    "#### Modelo0: Linha de base (baseline model)\n",
    "\n",
    "É o modelo mais simples que eu consigo imaginar e retorna a média da minha variável target (preço dos imóveis). Servirá para comparação com os modelos mais complexos. Entendo que a análise com esses últimos só valerá a pena se eles o desempenho deles for bem melhor do que o meu modelo baseline. Se não, sempre optaremos pela simplicidade e não precisaremos de modelos complexos para prever o valor das casas, se podemos usar simplesmente a média:"
   ]
  },
  {
   "cell_type": "code",
   "execution_count": 11,
   "id": "b851fa89",
   "metadata": {},
   "outputs": [
    {
     "name": "stdout",
     "output_type": "stream",
     "text": [
      "MAE: 46964.54\n",
      "MAPE: 29.016%\n",
      "RMSE: 58123.914\n",
      "R²: -0.001\n"
     ]
    }
   ],
   "source": [
    "y_predict = baseline_model()\n",
    "show_error_metrics(y_test, y_predict)"
   ]
  },
  {
   "cell_type": "markdown",
   "id": "30b4b78f",
   "metadata": {},
   "source": [
    "#### Construção dos demais modelos:\n",
    "\n",
    "Nessa etapa inicial de trabalho com os 4 modelos mais complexos irei construir os modelos usando os valores _default_ dos algoritmos. Se eles alguns deles superarem o meu modelo baseline, então irei selecionar 2 os melhores para a próxima etapa, onde tentarei melhorar o desempenho ainda mais fazendo o _tunning_ (ajuste dos valores de hiperparâmetros) dos modelos."
   ]
  },
  {
   "cell_type": "markdown",
   "id": "d28ff85b",
   "metadata": {},
   "source": [
    "---\n",
    "\n",
    "#### Modelo1: Linear Regression"
   ]
  },
  {
   "cell_type": "code",
   "execution_count": 12,
   "id": "f8121c7f",
   "metadata": {},
   "outputs": [
    {
     "name": "stdout",
     "output_type": "stream",
     "text": [
      "MAE: 14523.68\n",
      "MAPE: 8.707%\n",
      "RMSE: 20486.098\n",
      "R²: 0.876\n"
     ]
    }
   ],
   "source": [
    "lm_houses = LinearRegression()\n",
    "y_predict = predict_y_values(lm_houses)\n",
    "show_error_metrics(y_test, y_predict)"
   ]
  },
  {
   "cell_type": "markdown",
   "id": "4a12a923",
   "metadata": {},
   "source": [
    "Para validar o modelo de regressão, irei inspecionar a variância dos resíduos (erros) através de um gráfico de dispersão. Se os pontos que representam os erros estiverem aleatoriamente espalhados em torno do eixo horizontal (valor 0), então podemos assumir que um modelo linear realmente pode se ajustar melhor aos dados do que um modelo não linear."
   ]
  },
  {
   "cell_type": "code",
   "execution_count": 13,
   "id": "0d346766",
   "metadata": {},
   "outputs": [
    {
     "data": {
      "image/png": "[encoded data removed]",
      "text/plain": [
       "<Figure size 576x396 with 2 Axes>"
      ]
     },
     "metadata": {},
     "output_type": "display_data"
    }
   ],
   "source": [
    "from yellowbrick.regressor import ResidualsPlot\n",
    "visualizer = ResidualsPlot(lm_houses)\n",
    "visualizer.fit(X_train, y_train)  # Fit the training data to the visualizer\n",
    "visualizer.score(X_test, y_test)  # Evaluate the model on the test data\n",
    "visualizer.show();"
   ]
  },
  {
   "cell_type": "markdown",
   "id": "beebe8c9",
   "metadata": {},
   "source": [
    "Acima vemos que os erros têm mesmo uma distribuição aleatória tanto os valores preditos para a base de treino quanto para a de teste, e isso sugere um modelo bem ajustado. O histograma da direita também mostra uma distribuição de frequência dos erros simétrica em torno do valor 0, reforçando a ideia de normalidade dos resíduos, premissa do modelo linear."
   ]
  },
  {
   "cell_type": "markdown",
   "id": "aca5d6a9",
   "metadata": {},
   "source": [
    "O modelo supera o desempenho do modelo baseline."
   ]
  },
  {
   "cell_type": "markdown",
   "id": "1183e214",
   "metadata": {},
   "source": [
    "----\n",
    "\n",
    "#### Modelo2: KNN Regressor"
   ]
  },
  {
   "cell_type": "markdown",
   "id": "d566c04a",
   "metadata": {},
   "source": [
    "Aqui utilizei o método Elbow para chegar ao melhor valor do parâmetro K, gerando um gráfico de pontos que mostra o valor da métrica de erro dos modelos em função do valor de k. O melhor k será aquele que minimiza ao máximo o erro. Ou seja, o ponto mínimo da curva plotada.\n",
    "\n",
    "Utilizei a métrica MAPE como a principal métrica de erro do gráfico abaixo por considerar que ela representa bem a variável de interesse e é de fácil interpretação. Mas os valores de k foram parecidos para as demais métricas, como MAE e RMSE."
   ]
  },
  {
   "cell_type": "code",
   "execution_count": 14,
   "id": "8a80a8a9",
   "metadata": {},
   "outputs": [],
   "source": [
    "max_k = 40\n",
    "mape = lambda y_test, y_pred: mean_absolute_percentage_error(y_test, y_pred)\n",
    "error_rate = [mape(y_test, predict_y_values(KNeighborsRegressor(n_neighbors=k))) for k in range(1,max_k)]"
   ]
  },
  {
   "cell_type": "code",
   "execution_count": 15,
   "id": "da1c8c74",
   "metadata": {},
   "outputs": [
    {
     "data": {
      "image/png": "[encoded data removed]",
      "text/plain": [
       "<Figure size 720x432 with 1 Axes>"
      ]
     },
     "metadata": {},
     "output_type": "display_data"
    }
   ],
   "source": [
    "# Gráfico\n",
    "plt.figure(figsize=(10,6))\n",
    "plt.plot(range(1,max_k),error_rate,color='blue', linestyle='dashed', marker='o', markerfacecolor='red')\n",
    "plt.xlabel('\\n K'), plt.ylabel('Error metric \\n');"
   ]
  },
  {
   "cell_type": "markdown",
   "id": "5b8eab7a",
   "metadata": {},
   "source": [
    "Agora rodando o modelo com o melhor valor para k (11):"
   ]
  },
  {
   "cell_type": "code",
   "execution_count": 16,
   "id": "14810a60",
   "metadata": {},
   "outputs": [
    {
     "name": "stdout",
     "output_type": "stream",
     "text": [
      "MAE: 21510.08\n",
      "MAPE: 12.292%\n",
      "RMSE: 29720.016\n",
      "R²: 0.738\n"
     ]
    }
   ],
   "source": [
    "knn_houses = KNeighborsRegressor(n_neighbors=11)\n",
    "y_predict = predict_y_values(knn_houses)\n",
    "show_error_metrics(y_test, y_predict)"
   ]
  },
  {
   "cell_type": "markdown",
   "id": "c75a80ae",
   "metadata": {},
   "source": [
    "O modelo não supera o desempenho da regressão linear."
   ]
  },
  {
   "cell_type": "markdown",
   "id": "c020da95",
   "metadata": {},
   "source": [
    "---\n",
    "#### Modelo3: Decision Tree Regressor"
   ]
  },
  {
   "cell_type": "code",
   "execution_count": 17,
   "id": "9c4ab67e",
   "metadata": {},
   "outputs": [
    {
     "name": "stdout",
     "output_type": "stream",
     "text": [
      "MAE: 21058.13\n",
      "MAPE: 12.606%\n",
      "RMSE: 28069.799\n",
      "R²: 0.767\n"
     ]
    }
   ],
   "source": [
    "tree_houses = DecisionTreeRegressor()\n",
    "y_predict = predict_y_values(tree_houses)\n",
    "show_error_metrics(y_test, y_predict)"
   ]
  },
  {
   "cell_type": "markdown",
   "id": "d6cc8d79",
   "metadata": {},
   "source": [
    "O desempenho do modelo não supera o da regressão linear."
   ]
  },
  {
   "cell_type": "markdown",
   "id": "ec00a366",
   "metadata": {},
   "source": [
    "---\n",
    "\n",
    "#### Modelo4: Random Forest Regressor"
   ]
  },
  {
   "cell_type": "code",
   "execution_count": 18,
   "id": "1b93b397",
   "metadata": {},
   "outputs": [
    {
     "name": "stdout",
     "output_type": "stream",
     "text": [
      "MAE: 15560.3\n",
      "MAPE: 9.374%\n",
      "RMSE: 21136.647\n",
      "R²: 0.868\n"
     ]
    }
   ],
   "source": [
    "randomF_houses = RandomForestRegressor()\n",
    "y_predict = predict_y_values(randomF_houses)\n",
    "show_error_metrics(y_test, y_predict)"
   ]
  },
  {
   "cell_type": "markdown",
   "id": "b1501452",
   "metadata": {},
   "source": [
    "O desempenho do modelo não supera o da regressão linear, mas chega próximo."
   ]
  },
  {
   "cell_type": "markdown",
   "id": "d9652825",
   "metadata": {},
   "source": [
    "----\n",
    "#### Quais os melhores modelos até aqui?"
   ]
  },
  {
   "cell_type": "code",
   "execution_count": 19,
   "id": "563d7697",
   "metadata": {},
   "outputs": [],
   "source": [
    "## Gráfico de comparação dos resultados: \n",
    "error_metrics = {\n",
    "    \"models\": [\"Baseline\",\"LinearRegression\", \"KNN Regressor\",\"TreeDecision\", \"RandomForest\"],\n",
    "    \"MAE\": [46964, 14559, 21107, 21514, 15354],\n",
    "    \"MAPE\": [29.02, 8.68, 12.11, 12.87, 9.27],\n",
    "    \"RMSE\": [58123, 20546, 29219, 29258, 21171],\n",
    "}"
   ]
  },
  {
   "cell_type": "code",
   "execution_count": 20,
   "id": "44a2ab65",
   "metadata": {},
   "outputs": [
    {
     "data": {
      "image/png": "[encoded data removed]",
      "text/plain": [
       "<Figure size 720x504 with 1 Axes>"
      ]
     },
     "metadata": {},
     "output_type": "display_data"
    }
   ],
   "source": [
    "f, ax = plt.subplots(figsize=(10,7))\n",
    "\n",
    "x1 = np.arange(len(error_metrics[\"models\"]))\n",
    "x2 = [x + 0.25 for x in x1]\n",
    "x3 = [x + 0.25 for x in x2]\n",
    "x4 = [x + 0.25 for x in x3]\n",
    "x5 = [x + 0.25 for x in x4]\n",
    "\n",
    "# Plotando valores\n",
    "plt.bar(x1,np.log(error_metrics[\"MAE\"]), width=0.25, label=\"MAE\", color='b')\n",
    "plt.bar(x2,np.log(error_metrics[\"RMSE\"]), width=0.25, label=\"RMSE\",color='lightblue')\n",
    "plt.bar(x3,np.log(error_metrics[\"MAPE\"]), width=0.25, label=\"MAPE\",color='darkblue')\n",
    "\n",
    "plt.xticks(x2,error_metrics[\"models\"], fontsize=14)\n",
    "plt.ylabel(\"log(metric error)\", fontdict={\"size\": 14})\n",
    "plt.xlabel(\"\\nModel\", fontdict={\"size\": 14})\n",
    "plt.title(\"Error metric by model\", fontdict={\"size\": 14})\n",
    "plt.legend()\n",
    "plt.show();"
   ]
  },
  {
   "cell_type": "markdown",
   "id": "39689893",
   "metadata": {},
   "source": [
    "---\n",
    "\n",
    "### _Tunning_ e validação cruzada com os melhores modelos"
   ]
  },
  {
   "cell_type": "markdown",
   "id": "51d680e3",
   "metadata": {},
   "source": [
    "Os dois melhores resultados obtidos até aqui foram para a regressão linear e random forest. \n",
    "\n",
    "Considero que vale a pena refinar as análises para esses 2 melhores modelos, na tentativa de confrontá-los diretamente e checar se temos aumento de performance para algum deles. Para o random forest tentarei realizar o _tunning_, ajustando os valores dos hiperparâmetros. Já para a regressão linear isso não faz muito sentido, pois não tem nenhum hiperparâmetro importante que valha a pena ajustar.\n",
    "\n",
    "Também será importante fazer uma validação cruzada para estes dois modelos, realizando múltiplos treinos do algoritmo e garantindo que estamos testando todos os registros da base. Isso ajudará a reduzir os efeitos da aleatoriedade sobre o processo de aprendizagem dos dados. Ou seja, pode ser que um dos modelos tenha se saído bem simplesmente porque fizemos um teste único com registros que eram muito parecidos com aqueles usados durante o treino, e o modelo \"decorou\" os valores, ao invés de realmente aprender os padrões e fazer previsões de forma assertiva."
   ]
  },
  {
   "cell_type": "markdown",
   "id": "e8076322",
   "metadata": {},
   "source": [
    "#### Regressão linear"
   ]
  },
  {
   "cell_type": "code",
   "execution_count": 21,
   "id": "3a3ed153",
   "metadata": {},
   "outputs": [],
   "source": [
    "best_lm_mape = run_grid_search(lm_houses, X_houses, y_houses)\n",
    "best_lm_mae = run_grid_search(lm_houses, X_houses, y_houses, scoring = \"neg_mean_absolute_error\")\n",
    "best_lm_rmse = run_grid_search(lm_houses, X_houses, y_houses, scoring = \"neg_root_mean_squared_error\")\n",
    "best_lm_r2 = run_grid_search(lm_houses, X_houses, y_houses, scoring=\"r2\")"
   ]
  },
  {
   "cell_type": "markdown",
   "id": "ee13dd15",
   "metadata": {},
   "source": [
    "#### Random Forest"
   ]
  },
  {
   "cell_type": "code",
   "execution_count": 22,
   "id": "cfbee1ab",
   "metadata": {},
   "outputs": [],
   "source": [
    "params = {\n",
    "             'max_depth': [2, 4, None],\n",
    "             'max_features': ['auto', 'sqrt'],\n",
    "             'min_samples_leaf': [1, 2, 5],\n",
    "             'min_samples_split': [2, 5, 10],\n",
    "         }"
   ]
  },
  {
   "cell_type": "code",
   "execution_count": 23,
   "id": "8f491691",
   "metadata": {},
   "outputs": [],
   "source": [
    "best_randomF_mape = run_grid_search(randomF_houses, X_houses, y_houses, params)\n",
    "best_randomF_mae = run_grid_search(randomF_houses, X_houses, y_houses, params, scoring=\"neg_mean_absolute_error\")\n",
    "best_randomF_rmse = run_grid_search(randomF_houses, X_houses, y_houses, params, scoring=\"neg_root_mean_squared_error\")\n",
    "best_randomF_r2 = run_grid_search(randomF_houses, X_houses, y_houses, params, scoring=\"r2\")"
   ]
  },
  {
   "cell_type": "markdown",
   "id": "b28470d1",
   "metadata": {},
   "source": [
    "Consolidando os novos resultados após o refinamento das análises:"
   ]
  },
  {
   "cell_type": "code",
   "execution_count": 24,
   "id": "2bd07617",
   "metadata": {},
   "outputs": [
    {
     "data": {
      "text/html": [
       "<div>\n",
       "<style scoped>\n",
       "    .dataframe tbody tr th:only-of-type {\n",
       "        vertical-align: middle;\n",
       "    }\n",
       "\n",
       "    .dataframe tbody tr th {\n",
       "        vertical-align: top;\n",
       "    }\n",
       "\n",
       "    .dataframe thead th {\n",
       "        text-align: right;\n",
       "    }\n",
       "</style>\n",
       "<table border=\"1\" class=\"dataframe\">\n",
       "  <thead>\n",
       "    <tr style=\"text-align: right;\">\n",
       "      <th></th>\n",
       "      <th>Linear Regression</th>\n",
       "      <th>Random Forest</th>\n",
       "    </tr>\n",
       "  </thead>\n",
       "  <tbody>\n",
       "    <tr>\n",
       "      <th>MAE</th>\n",
       "      <td>14307.752396</td>\n",
       "      <td>14123.160094</td>\n",
       "    </tr>\n",
       "    <tr>\n",
       "      <th>MAPE</th>\n",
       "      <td>0.087483</td>\n",
       "      <td>0.085075</td>\n",
       "    </tr>\n",
       "    <tr>\n",
       "      <th>RMSE</th>\n",
       "      <td>19355.136755</td>\n",
       "      <td>20018.180437</td>\n",
       "    </tr>\n",
       "    <tr>\n",
       "      <th>R2</th>\n",
       "      <td>0.885014</td>\n",
       "      <td>0.876791</td>\n",
       "    </tr>\n",
       "  </tbody>\n",
       "</table>\n",
       "</div>"
      ],
      "text/plain": [
       "      Linear Regression  Random Forest\n",
       "MAE        14307.752396   14123.160094\n",
       "MAPE           0.087483       0.085075\n",
       "RMSE       19355.136755   20018.180437\n",
       "R2             0.885014       0.876791"
      ]
     },
     "execution_count": 24,
     "metadata": {},
     "output_type": "execute_result"
    }
   ],
   "source": [
    "results = {\n",
    "            \"Linear Regression\": [best_lm_mae[1],best_lm_mape[1],best_lm_rmse[1],best_lm_r2[1]],\n",
    "            \"Random Forest\": [best_randomF_mae[1],best_randomF_mape[1],best_randomF_rmse[1],best_randomF_r2[1]],\n",
    "          }\n",
    "\n",
    "pd.DataFrame(results, index=[key for key in regression_metrics.keys()])"
   ]
  },
  {
   "cell_type": "markdown",
   "id": "e2b1bd3f",
   "metadata": {},
   "source": [
    "O modelo random forest superou a regressão linear para a maior parte das métricas de desempenho, com exceção do RMSE. Como para o meu contexto estou considerando que o MAPE é a métrica mais relevante e de mais fácil interpretação, assumirei que o desempenho do primeiro supera o do segundo. Ou seja, que o nosso modelo campeão é o **random forest.** \n",
    "\n",
    "Vamos checar quais os são os melhores valores de params para esta métrica:"
   ]
  },
  {
   "cell_type": "code",
   "execution_count": 25,
   "id": "fa38f85e",
   "metadata": {},
   "outputs": [
    {
     "name": "stdout",
     "output_type": "stream",
     "text": [
      "Best params: {'max_depth': None, 'max_features': 'sqrt', 'min_samples_leaf': 1, 'min_samples_split': 2}\n",
      "MAPE: 8.507\n",
      "--------------------------------------------------\n"
     ]
    }
   ],
   "source": [
    "show_results_gridsearch(best_randomF_mape, metric=\"MAPE\")"
   ]
  },
  {
   "cell_type": "markdown",
   "id": "47ac50aa",
   "metadata": {},
   "source": [
    "---\n",
    "\n",
    "#### Checando se ocorreu _overfitting_ para o modelo campeão\n",
    "\n",
    "Caminhando para o final da análise, vamos fazer uma última validação. Se o modelo se sai muito melhor nas previsões para a base de treino do que na para a base de teste podemos suspeitar que temos um modelo sobre-ajustado, que não irá performar bem quando for colocado em produção e tiver que lidar com valores desconhecidos dos atributos. Vamos testar com o modelo campeão:"
   ]
  },
  {
   "cell_type": "code",
   "execution_count": 26,
   "id": "9976f214",
   "metadata": {},
   "outputs": [
    {
     "name": "stdout",
     "output_type": "stream",
     "text": [
      "MAE: 6727.92\n",
      "MAPE: 4.105%\n",
      "RMSE: 9829.005\n",
      "R²: 0.971\n"
     ]
    }
   ],
   "source": [
    "randomF_overfitting_test = RandomForestRegressor(max_features=\"sqrt\", min_samples_split=5)\n",
    "randomF_overfitting_test.fit(X_train, y_train)\n",
    "y_predict = randomF_overfitting_test.predict(X_train)\n",
    "show_error_metrics(y_train, y_predict)"
   ]
  },
  {
   "cell_type": "markdown",
   "id": "ff554935",
   "metadata": {},
   "source": [
    "Existe uma possibilidade, pois a performance do modelo para a base de treino está bem melhor do que aquela obtida quando testamos o modelo. Porém, como eu utilizei algumas técnicas que ajudam a evitar o _overfitting_ (como a _cross-validation_) e temos um ajuste < 98%, vou assumir que não. Se este fosse um projeto real seria fundamental investigar essa hipótese a fundo antes de apresentar os resultados ao cliente."
   ]
  },
  {
   "cell_type": "markdown",
   "id": "2469660b",
   "metadata": {},
   "source": [
    "---\n",
    "\n",
    "## Conclusão"
   ]
  },
  {
   "cell_type": "markdown",
   "id": "bd55d01d",
   "metadata": {},
   "source": [
    "O modelo **random forest** teve o melhor desempenho para o nosso problema de regressão e é capaz de prever os preços de novos imóveis com um erro de ~ 8.5%. Em um cenário mais real, porém, seria fundamental descartar a hipótese de que ele está sofrendo de _overfitting_ antes de levá-lo para consumo."
   ]
  }
 ],
 "metadata": {
  "kernelspec": {
   "display_name": "Python 3 (ipykernel)",
   "language": "python",
   "name": "python3"
  },
  "language_info": {
   "codemirror_mode": {
    "name": "ipython",
    "version": 3
   },
   "file_extension": ".py",
   "mimetype": "text/x-python",
   "name": "python",
   "nbconvert_exporter": "python",
   "pygments_lexer": "ipython3",
   "version": "3.9.7"
  }
 },
 "nbformat": 4,
 "nbformat_minor": 5
}
